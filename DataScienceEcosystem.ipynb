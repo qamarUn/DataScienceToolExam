{
 "cells": [
  {
   "cell_type": "code",
   "execution_count": null,
   "id": "ae6b92ec-1aa1-4890-a1d6-021519ff9f18",
   "metadata": {},
   "outputs": [],
   "source": [
    "# Data Science Tools and Ecosystem"
   ]
  },
  {
   "cell_type": "markdown",
   "id": "2444af85-13a3-4b88-94d2-8403710fbbbf",
   "metadata": {},
   "source": [
    "# Data Science Tools and Ecosystem"
   ]
  },
  {
   "cell_type": "code",
   "execution_count": null,
   "id": "4db4559e-b080-4ddb-b7a6-023d069064ba",
   "metadata": {},
   "outputs": [],
   "source": [
    "## Introduction \n",
    "In this notebook, Data Science Tools and Ecosystem are summarized.\n"
   ]
  },
  {
   "cell_type": "markdown",
   "id": "a5f6b9c4-1438-472f-9ffc-714a213b6423",
   "metadata": {},
   "source": [
    "## Introduction \n",
    "In this notebook, Data Science Tools and Ecosystem are summarized.\n"
   ]
  },
  {
   "cell_type": "markdown",
   "id": "e7dc5558-d313-4278-8fb3-0849058586fa",
   "metadata": {},
   "source": [
    "# Ordered List"
   ]
  },
  {
   "cell_type": "code",
   "execution_count": null,
   "id": "75662753-607c-4fca-9811-3caa541bbfe9",
   "metadata": {
    "tags": []
   },
   "outputs": [],
   "source": [
    "1. Python \n",
    "2. R \n",
    "3. C++ \n",
    "4. Java"
   ]
  },
  {
   "cell_type": "markdown",
   "id": "f3dbfba9-879b-4c4a-8cec-00202c07010c",
   "metadata": {},
   "source": [
    "1. Python \n",
    "2. R \n",
    "3. C++ \n",
    "4. Java"
   ]
  },
  {
   "cell_type": "markdown",
   "id": "a521d757-9f35-4b3f-af29-956c661c1d6f",
   "metadata": {},
   "source": [
    "# Data Science Libraries \n"
   ]
  },
  {
   "cell_type": "code",
   "execution_count": null,
   "id": "304b6551-7fd5-4a3b-bef0-299733476c6e",
   "metadata": {},
   "outputs": [],
   "source": [
    "1. Numpy\n",
    "2. Pandas\n",
    "3. matplotlib \n",
    "4. plotly\n",
    "5. scipy\n",
    "6. etc"
   ]
  },
  {
   "cell_type": "markdown",
   "id": "a0f0d426-85af-4cf7-8ce4-2d38532c49e3",
   "metadata": {},
   "source": [
    "1. Numpy\n",
    "2. Pandas\n",
    "3. matplotlib \n",
    "4. plotly\n",
    "5. scipy\n",
    "6. etc"
   ]
  },
  {
   "cell_type": "code",
   "execution_count": null,
   "id": "f15b3884-f812-429e-b7e7-ec7cf34ffd98",
   "metadata": {},
   "outputs": [],
   "source": [
    "## Data Science Tools"
   ]
  },
  {
   "cell_type": "markdown",
   "id": "4461e4f2-a5ff-497d-a95d-41e42e37ee12",
   "metadata": {},
   "source": [
    "## Data Science Tools"
   ]
  },
  {
   "cell_type": "code",
   "execution_count": null,
   "id": "ec22a5e3-7703-4225-8a2c-1b6873eb270a",
   "metadata": {},
   "outputs": [],
   "source": [
    "| Data Science Tools |\n",
    "| -------------------|\n",
    "| R|\n",
    "|Python|\n",
    "|Google Collab |\n",
    "|IBM watson |"
   ]
  },
  {
   "cell_type": "markdown",
   "id": "e7f64bef-3925-4404-a231-f1a11f4b4054",
   "metadata": {},
   "source": [
    "| Data Science Tools |\n",
    "| -------------------|\n",
    "| R|\n",
    "|Python|\n",
    "|Google Collab |\n",
    "|IBM watson |"
   ]
  },
  {
   "cell_type": "code",
   "execution_count": null,
   "id": "fde8a402-c3ca-4ceb-bc64-ae3a6de1a66c",
   "metadata": {},
   "outputs": [],
   "source": [
    "# introducing arithmetic expression examples"
   ]
  },
  {
   "cell_type": "markdown",
   "id": "5c625c5d-5548-433b-91a4-d116b0386934",
   "metadata": {},
   "source": [
    "# introducing arithmetic expression examples"
   ]
  },
  {
   "cell_type": "markdown",
   "id": "32dcc572-ee61-4d63-b3b5-1e164499c995",
   "metadata": {
    "tags": []
   },
   "source": [
    "### Below are a few examples of evaluating arithmetic expressions in Python.\n",
    " "
   ]
  },
  {
   "cell_type": "code",
   "execution_count": 4,
   "id": "6581ad52-fac1-4de6-ae2a-e48b2130b9a4",
   "metadata": {
    "tags": []
   },
   "outputs": [
    {
     "data": {
      "text/plain": [
       "17"
      ]
     },
     "execution_count": 4,
     "metadata": {},
     "output_type": "execute_result"
    }
   ],
   "source": [
    "# This a simple arithmetic expression to mutiply then add integers.\n",
    "(3*4)+5 "
   ]
  },
  {
   "cell_type": "markdown",
   "id": "05797950-4ebe-4c08-aa84-227bc5d4e4ab",
   "metadata": {},
   "source": [
    "### Minutes into Hours "
   ]
  },
  {
   "cell_type": "code",
   "execution_count": 5,
   "id": "5d339c88-de09-465e-b3cc-901496c6f4f1",
   "metadata": {
    "tags": []
   },
   "outputs": [
    {
     "data": {
      "text/plain": [
       "3.3333333333333335"
      ]
     },
     "execution_count": 5,
     "metadata": {},
     "output_type": "execute_result"
    }
   ],
   "source": [
    "# This will convert 200 minutes to hours by diving by 60. \n",
    "hours = 200 / 60 \n",
    "hours"
   ]
  },
  {
   "cell_type": "markdown",
   "id": "099d53f2-9a34-4c1f-b73a-cd81dd7804d3",
   "metadata": {},
   "source": [
    "## Introduction \n",
    "In this notebook, Data Science Tools and Ecosystem are summarized.\n"
   ]
  },
  {
   "cell_type": "markdown",
   "id": "72bf22e5-17eb-47d7-a09e-3f25de7d4116",
   "metadata": {
    "tags": []
   },
   "source": [
    "###  Objectives\n",
    " - R\n",
    " - Python\n",
    " - Julia\n",
    " - Java"
   ]
  },
  {
   "cell_type": "code",
   "execution_count": null,
   "id": "7e5e3ecd-4091-4719-9fa8-4769c3fbeded",
   "metadata": {},
   "outputs": [],
   "source": [
    "## Author\n",
    "\n",
    "QAMAR UN NISA"
   ]
  },
  {
   "cell_type": "markdown",
   "id": "bd8eb971-37c4-43f4-84c8-5d28918c28b1",
   "metadata": {
    "tags": []
   },
   "source": [
    "## Author\n",
    "\n",
    "QAMAR UN NISA"
   ]
  },
  {
   "cell_type": "markdown",
   "id": "f04a5849-32af-45fc-bd38-b21419fc83d7",
   "metadata": {
    "tags": []
   },
   "source": [
    "[Git Hub Code](https://github.com/qamarUn/DataScienceToolExam.git)"
   ]
  },
  {
   "cell_type": "code",
   "execution_count": null,
   "id": "1b7b0415-3b01-4d0d-a92d-00be586c7b0f",
   "metadata": {},
   "outputs": [],
   "source": []
  }
 ],
 "metadata": {
  "kernelspec": {
   "display_name": "Python 3 (ipykernel)",
   "language": "python",
   "name": "python3"
  },
  "language_info": {
   "codemirror_mode": {
    "name": "ipython",
    "version": 3
   },
   "file_extension": ".py",
   "mimetype": "text/x-python",
   "name": "python",
   "nbconvert_exporter": "python",
   "pygments_lexer": "ipython3",
   "version": "3.11.4"
  }
 },
 "nbformat": 4,
 "nbformat_minor": 5
}
